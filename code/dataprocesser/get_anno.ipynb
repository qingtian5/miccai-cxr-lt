{
 "cells": [
  {
   "cell_type": "markdown",
   "metadata": {},
   "source": [
    "### 得到每个每个图片所构成的列表 "
   ]
  },
  {
   "cell_type": "code",
   "execution_count": null,
   "metadata": {},
   "outputs": [],
   "source": [
    "import os\n",
    "import json\n",
    "\n",
    "raw_path = \"/mnt/pfs-guan-ssai/cv/panxuhao/misc/playground/physionet.org/files/mimic-cxr-jpg/2.0.0/files\"\n",
    "\n",
    "def get_files(path):\n",
    "    files = []\n",
    "    for root, dirs, fs in os.walk(path):\n",
    "        for f in fs:\n",
    "            if f.endswith(('.jpg', '.jpeg', '.png', '.bmp', '.tiff', '.webp')):\n",
    "                files.append(os.path.join(root, f))\n",
    "    return files\n",
    "\n",
    "files = get_files(raw_path)\n",
    "print(len(files))\n",
    "\n",
    "with open(\"/mnt/pfs-mc0p4k/cv/team/panxuhao/playground/miccai24_cxr_lt/code/dataprocesser/anno.json\", \"w\") as f:\n",
    "    json.dump(files, f, ensure_ascii=False, indent=4)\n"
   ]
  },
  {
   "cell_type": "markdown",
   "metadata": {},
   "source": [
    "### 读取数据"
   ]
  },
  {
   "cell_type": "code",
   "execution_count": 1,
   "metadata": {},
   "outputs": [],
   "source": [
    "import os\n",
    "import json\n",
    "import pandas as pd\n",
    "\n",
    "# 读取数据\n",
    "raw_path = \"/mnt/pfs-guan-ssai/cv/panxuhao/misc/playground/miccai24-cxr-lt/task1_development_starting_kit/train_labeled.csv\"\n",
    "class_path = \"/mnt/pfs-guan-ssai/cv/panxuhao/misc/playground/miccai24-cxr-lt/task1_development_starting_kit/CLASSES.txt\"\n",
    "\n",
    "data = pd.read_csv(raw_path)\n",
    "classes = []\n",
    "with open(class_path, \"r\") as f:\n",
    "    for line in f.readlines():\n",
    "        classes.append(line.strip())\n"
   ]
  },
  {
   "cell_type": "markdown",
   "metadata": {},
   "source": [
    "#### 得到所有图片的类别以及保存 meta 信息"
   ]
  },
  {
   "cell_type": "code",
   "execution_count": 19,
   "metadata": {},
   "outputs": [],
   "source": [
    "meta_info = {}\n",
    "meta_info['metainfo'] = {\"classes\": classes}\n",
    "data_list = []\n",
    "\n",
    "for idx, raw in data.iterrows():\n",
    "    image_path = os.path.join(\"/mnt/pfs-guan-ssai/cv/panxuhao/misc/playground/physionet.org/files/mimic-cxr-jpg/2.0.0\", raw['fpath'])\n",
    "    out = list(raw.values[6:])\n",
    "    indices = [index for index, value in enumerate(out) if value == 1]\n",
    "    data_list.append({\"img_path\": image_path,'gt_label': indices})\n",
    "\n",
    "meta_info['data_list'] = data_list"
   ]
  },
  {
   "cell_type": "code",
   "execution_count": 20,
   "metadata": {},
   "outputs": [],
   "source": [
    "with open(\"data_unbalanced_metainfo.json\", \"w\") as f:\n",
    "    json.dump(meta_info, f, ensure_ascii=False, indent=4)"
   ]
  },
  {
   "cell_type": "code",
   "execution_count": null,
   "metadata": {},
   "outputs": [],
   "source": []
  },
  {
   "cell_type": "markdown",
   "metadata": {},
   "source": [
    "#### 统计每个类别不均衡占比"
   ]
  },
  {
   "cell_type": "code",
   "execution_count": 14,
   "metadata": {},
   "outputs": [
    {
     "name": "stdout",
     "output_type": "stream",
     "text": [
      "                         Class  0_count  1_count   1_ratio\n",
      "0                   Adenopathy   255462     3409  0.013169\n",
      "1                  Atelectasis   193495    65376  0.252543\n",
      "2                  Azygos Lobe   258672      199  0.000769\n",
      "3   Calcification of the Aorta   254632     4239  0.016375\n",
      "4                 Cardiomegaly   184133    74738  0.288708\n",
      "5            Clavicle Fracture   258703      168  0.000649\n",
      "6                Consolidation   243500    15371  0.059377\n",
      "7                        Edema   221615    37256  0.143917\n",
      "8                    Emphysema   255210     3661  0.014142\n",
      "9   Enlarged Cardiomediastinum   229243    29628  0.114451\n",
      "10                    Fibrosis   257702     1169  0.004516\n",
      "11                     Fissure   256068     2803  0.010828\n",
      "12                    Fracture   247303    11568  0.044686\n",
      "13                   Granuloma   255906     2965  0.011454\n",
      "14                      Hernia   254885     3986  0.015398\n",
      "15           Hydropneumothorax   258225      646  0.002495\n",
      "16                  Infarction   258144      727  0.002808\n",
      "17                Infiltration   248784    10087  0.038965\n",
      "18                    Kyphosis   258093      778  0.003005\n",
      "19           Lobar Atelectasis   258742      129  0.000498\n",
      "20                 Lung Lesion   256533     2338  0.009032\n",
      "21                Lung Opacity   181389    77482  0.299307\n",
      "22                        Mass   253583     5288  0.020427\n",
      "23                      Nodule   251340     7531  0.029092\n",
      "24                      Normal   224579    34292  0.132468\n",
      "25            Pleural Effusion   192470    66401  0.256502\n",
      "26               Pleural Other   258255      616  0.002380\n",
      "27          Pleural Thickening   255599     3272  0.012639\n",
      "28           Pneumomediastinum   258167      704  0.002720\n",
      "29                   Pneumonia   212211    46660  0.180244\n",
      "30            Pneumoperitoneum   258355      516  0.001993\n",
      "31                Pneumothorax   245013    13858  0.053532\n",
      "32          Pulmonary Embolism   257240     1631  0.006300\n",
      "33      Pulmonary Hypertension   257968      903  0.003488\n",
      "34                Rib Fracture   249952     8919  0.034453\n",
      "35       Round(ed) Atelectasis   258699      172  0.000664\n",
      "36      Subcutaneous Emphysema   256825     2046  0.007904\n",
      "37             Support Devices   172792    86079  0.332517\n",
      "38              Tortuous Aorta   255535     3336  0.012887\n",
      "39                Tuberculosis   256793     2078  0.008027\n"
     ]
    }
   ],
   "source": [
    "# 初始化空的数据框\n",
    "summary_df = pd.DataFrame(columns=['Class', '0_count', '1_count', '1_ratio'])\n",
    "\n",
    "# 统计每个类的0和1的数量和1的占比\n",
    "rows = []\n",
    "for c in classes:\n",
    "    cl = data[c].value_counts()\n",
    "    count_0 = cl.get(0, 0)\n",
    "    count_1 = cl.get(1, 0)\n",
    "    total = count_0 + count_1\n",
    "    ratio_1 = count_1 / total if total > 0 else 0\n",
    "    row = {'Class': c, '0_count': count_0, '1_count': count_1, '1_ratio': ratio_1}\n",
    "    rows.append(row)\n",
    "\n",
    "summary_df = pd.DataFrame(rows)\n",
    "\n",
    "# 显示数据框\n",
    "print(summary_df)"
   ]
  },
  {
   "cell_type": "markdown",
   "metadata": {},
   "source": [
    "### 平衡每个类别的数据占比"
   ]
  },
  {
   "cell_type": "code",
   "execution_count": 15,
   "metadata": {},
   "outputs": [
    {
     "name": "stdout",
     "output_type": "stream",
     "text": [
      "                         Class  Count   1_ratio\n",
      "0                   Adenopathy   5935  0.042353\n",
      "1                  Atelectasis  44384  0.316728\n",
      "2                  Azygos Lobe   2139  0.015264\n",
      "3   Calcification of the Aorta   6696  0.047783\n",
      "4                 Cardiomegaly  45111  0.321916\n",
      "5            Clavicle Fracture   2190  0.015628\n",
      "6                Consolidation  14820  0.105757\n",
      "7                        Edema  24477  0.174670\n",
      "8                    Emphysema   6896  0.049210\n",
      "9   Enlarged Cardiomediastinum  23515  0.167805\n",
      "10                    Fibrosis   2849  0.020331\n",
      "11                     Fissure   5258  0.037521\n",
      "12                    Fracture  16751  0.119536\n",
      "13                   Granuloma   5048  0.036023\n",
      "14                      Hernia   6566  0.046855\n",
      "15           Hydropneumothorax   2711  0.019346\n",
      "16                  Infarction   2617  0.018675\n",
      "17                Infiltration   9889  0.070569\n",
      "18                    Kyphosis   2559  0.018261\n",
      "19           Lobar Atelectasis   2096  0.014957\n",
      "20                 Lung Lesion   4384  0.031285\n",
      "21                Lung Opacity  55905  0.398942\n",
      "22                        Mass   9200  0.065652\n",
      "23                      Nodule  10693  0.076306\n",
      "24                      Normal   5472  0.039049\n",
      "25            Pleural Effusion  48606  0.346856\n",
      "26               Pleural Other   2473  0.017648\n",
      "27          Pleural Thickening   5941  0.042395\n",
      "28           Pneumomediastinum   2838  0.020252\n",
      "29                   Pneumonia  27464  0.195985\n",
      "30            Pneumoperitoneum   2354  0.016798\n",
      "31                Pneumothorax  15840  0.113035\n",
      "32          Pulmonary Embolism   3325  0.023727\n",
      "33      Pulmonary Hypertension   2627  0.018746\n",
      "34                Rib Fracture  12834  0.091584\n",
      "35       Round(ed) Atelectasis   2138  0.015257\n",
      "36      Subcutaneous Emphysema   4721  0.033689\n",
      "37             Support Devices  50798  0.362498\n",
      "38              Tortuous Aorta   5130  0.036608\n",
      "39                Tuberculosis   3178  0.022678\n"
     ]
    }
   ],
   "source": [
    "import pandas as pd\n",
    "from sklearn.utils import resample\n",
    "\n",
    "# 读取数据\n",
    "data = pd.read_csv(raw_path)\n",
    "classes = []\n",
    "with open(class_path, \"r\") as f:\n",
    "    for line in f.readlines():\n",
    "        classes.append(line.strip())\n",
    "\n",
    "# 设定上限和下限\n",
    "upper_limit = 5000\n",
    "lower_limit = 2000\n",
    "\n",
    "# 初始化空的数据框\n",
    "balanced_data = pd.DataFrame()\n",
    "\n",
    "for c in classes:\n",
    "    class_data = data[data[c] == 1]\n",
    "    count = class_data.shape[0]\n",
    "    \n",
    "    if count > upper_limit:\n",
    "        class_data = resample(class_data, replace=False, n_samples=upper_limit, random_state=42)\n",
    "    elif count < lower_limit:\n",
    "        class_data = resample(class_data, replace=True, n_samples=lower_limit, random_state=42)\n",
    "    \n",
    "    balanced_data = pd.concat([balanced_data, class_data])\n",
    "\n",
    "# 显示平衡后的数据分布\n",
    "balanced_summary_df = balanced_data[classes].sum().reset_index()\n",
    "balanced_summary_df.columns = ['Class', 'Count']\n",
    "\n",
    "# 计算新的1的占比\n",
    "balanced_summary_df['1_ratio'] = balanced_summary_df['Count'] / len(balanced_data)\n",
    "\n",
    "# 显示平衡后的结果\n",
    "print(balanced_summary_df)\n"
   ]
  },
  {
   "cell_type": "code",
   "execution_count": 16,
   "metadata": {},
   "outputs": [],
   "source": [
    "balanced_data.to_csv(\"/mnt/pfs-mc0p4k/cv/team/panxuhao/playground/miccai24_cxr_lt/code/dataprocesser/balanced_5000_2000.csv\", index=False)"
   ]
  },
  {
   "cell_type": "code",
   "execution_count": 17,
   "metadata": {},
   "outputs": [],
   "source": [
    "meta_info = {}\n",
    "meta_info['metainfo'] = {\"classes\": classes}\n",
    "data_list = []\n",
    "\n",
    "for idx, raw in balanced_data.iterrows():\n",
    "    image_path = os.path.join(\"/mnt/pfs-guan-ssai/cv/panxuhao/misc/playground/physionet.org/files/mimic-cxr-jpg/2.0.0\", raw['fpath'])\n",
    "    out = list(raw.values[6:])\n",
    "    indices = [index for index, value in enumerate(out) if value == 1]\n",
    "    data_list.append({\"img_path\": image_path,'gt_label': indices})\n",
    "\n",
    "meta_info['data_list'] = data_list"
   ]
  },
  {
   "cell_type": "code",
   "execution_count": 18,
   "metadata": {},
   "outputs": [],
   "source": [
    "with open(\"balanced_5000_2000_metainfo.json\", \"w\") as f:\n",
    "    json.dump(meta_info, f, ensure_ascii=False, indent=4)"
   ]
  }
 ],
 "metadata": {
  "kernelspec": {
   "display_name": "Python 3",
   "language": "python",
   "name": "python3"
  },
  "language_info": {
   "codemirror_mode": {
    "name": "ipython",
    "version": 3
   },
   "file_extension": ".py",
   "mimetype": "text/x-python",
   "name": "python",
   "nbconvert_exporter": "python",
   "pygments_lexer": "ipython3",
   "version": "3.9.12"
  }
 },
 "nbformat": 4,
 "nbformat_minor": 2
}
